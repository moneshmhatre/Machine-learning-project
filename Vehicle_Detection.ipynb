{
 "cells": [
  {
   "cell_type": "code",
   "execution_count": 70,
   "metadata": {},
   "outputs": [],
   "source": [
    "import tensorflow as tf\n",
    "from tensorflow.keras.models import Sequential\n",
    "from tensorflow.keras.layers import Conv2D, MaxPooling2D, Flatten, Dense, Dropout\n",
    "import numpy as np\n",
    "import pandas as pd\n",
    "import matplotlib.pyplot as plt\n",
    "from tensorflow.keras.preprocessing.image import ImageDataGenerator\n",
    "from PIL import ImageFile, Image\n",
    "ImageFile.LOAD_TRUNCATED_IMAGES = True"
   ]
  },
  {
   "cell_type": "code",
   "execution_count": 97,
   "metadata": {},
   "outputs": [
    {
     "name": "stdout",
     "output_type": "stream",
     "text": [
      "Found 4024 images belonging to 6 classes.\n",
      "Found 1389 images belonging to 6 classes.\n"
     ]
    }
   ],
   "source": [
    "# Generate batches of tensor image data with real-time data augmentation.\n",
    "datagen = ImageDataGenerator(rescale=1./255)\n",
    "\n",
    "training_set=datagen.flow_from_directory(r\"E:\\ml1\\train\",\n",
    "                                                target_size=(64,64), \n",
    "                                               batch_size=100,\n",
    "                                               class_mode = 'categorical')\n",
    "test_set=datagen.flow_from_directory(r\"E:\\ml1\\test\",\n",
    "                                                target_size=(64,64), \n",
    "                                               batch_size=100,\n",
    "                                               class_mode = 'categorical')\n",
    "# class_mode='categorical' if you have more than 2 classses"
   ]
  },
  {
   "cell_type": "code",
   "execution_count": 98,
   "metadata": {},
   "outputs": [
    {
     "name": "stdout",
     "output_type": "stream",
     "text": [
      "Model: \"sequential_16\"\n",
      "_________________________________________________________________\n",
      " Layer (type)                Output Shape              Param #   \n",
      "=================================================================\n",
      " conv2d_56 (Conv2D)          (None, 62, 62, 32)        896       \n",
      "                                                                 \n",
      " max_pooling2d_53 (MaxPoolin  (None, 31, 31, 32)       0         \n",
      " g2D)                                                            \n",
      "                                                                 \n",
      " conv2d_57 (Conv2D)          (None, 29, 29, 64)        18496     \n",
      "                                                                 \n",
      " max_pooling2d_54 (MaxPoolin  (None, 14, 14, 64)       0         \n",
      " g2D)                                                            \n",
      "                                                                 \n",
      " conv2d_58 (Conv2D)          (None, 12, 12, 64)        36928     \n",
      "                                                                 \n",
      " max_pooling2d_55 (MaxPoolin  (None, 6, 6, 64)         0         \n",
      " g2D)                                                            \n",
      "                                                                 \n",
      " dropout_8 (Dropout)         (None, 6, 6, 64)          0         \n",
      "                                                                 \n",
      " conv2d_59 (Conv2D)          (None, 4, 4, 128)         73856     \n",
      "                                                                 \n",
      " max_pooling2d_56 (MaxPoolin  (None, 2, 2, 128)        0         \n",
      " g2D)                                                            \n",
      "                                                                 \n",
      " flatten_11 (Flatten)        (None, 512)               0         \n",
      "                                                                 \n",
      " dense_22 (Dense)            (None, 128)               65664     \n",
      "                                                                 \n",
      " dense_23 (Dense)            (None, 6)                 774       \n",
      "                                                                 \n",
      "=================================================================\n",
      "Total params: 196,614\n",
      "Trainable params: 196,614\n",
      "Non-trainable params: 0\n",
      "_________________________________________________________________\n"
     ]
    }
   ],
   "source": [
    "model = Sequential()\n",
    "model.add(Conv2D(32,(3,3), input_shape=(64,64,3)))\n",
    "model.add(MaxPooling2D(2,2))\n",
    "model.add(Conv2D(64, (3,3),activation='relu'))\n",
    "model.add(MaxPooling2D(2,2))\n",
    "model.add(Conv2D(64, (3,3),activation='relu'))\n",
    "model.add(MaxPooling2D(2,2))\n",
    "model.add(Dropout(0.3))\n",
    "model.add(Conv2D(128, (3,3)))\n",
    "model.add(MaxPooling2D(2,2))\n",
    "model.add(Flatten())\n",
    "model.add(Dense(128, activation='relu'))\n",
    "model.add(Dense(6, activation='softmax'))\n",
    "model.summary()"
   ]
  },
  {
   "cell_type": "code",
   "execution_count": 99,
   "metadata": {},
   "outputs": [],
   "source": [
    "from tensorflow.keras.callbacks import EarlyStopping"
   ]
  },
  {
   "cell_type": "code",
   "execution_count": 100,
   "metadata": {},
   "outputs": [],
   "source": [
    "early_stopping= EarlyStopping(monitor='accuracy',patience =3)"
   ]
  },
  {
   "cell_type": "code",
   "execution_count": 101,
   "metadata": {},
   "outputs": [],
   "source": [
    "model.compile(optimizer='adam', loss='categorical_crossentropy',metrics=['accuracy'])\n",
    "\n",
    "\n",
    "# model.compile(optimizer='adam',loss=tf.keras.losses.SparseCategoricalCrossentropy(from_logits=False),metrics=['accuracy'])"
   ]
  },
  {
   "cell_type": "code",
   "execution_count": 102,
   "metadata": {},
   "outputs": [
    {
     "name": "stdout",
     "output_type": "stream",
     "text": [
      "Epoch 1/30\n",
      "41/41 [==============================] - 27s 628ms/step - loss: 1.4165 - accuracy: 0.4863 - val_loss: 1.3071 - val_accuracy: 0.5364\n",
      "Epoch 2/30\n",
      "41/41 [==============================] - 26s 644ms/step - loss: 1.0324 - accuracy: 0.6325 - val_loss: 0.8409 - val_accuracy: 0.6825\n",
      "Epoch 3/30\n",
      "41/41 [==============================] - 26s 641ms/step - loss: 0.7954 - accuracy: 0.7179 - val_loss: 0.7112 - val_accuracy: 0.7559\n",
      "Epoch 4/30\n",
      "41/41 [==============================] - 26s 638ms/step - loss: 0.6645 - accuracy: 0.7667 - val_loss: 0.6280 - val_accuracy: 0.7797\n",
      "Epoch 5/30\n",
      "41/41 [==============================] - 26s 653ms/step - loss: 0.5768 - accuracy: 0.7955 - val_loss: 0.7040 - val_accuracy: 0.7322\n",
      "Epoch 6/30\n",
      "41/41 [==============================] - 26s 635ms/step - loss: 0.4831 - accuracy: 0.8263 - val_loss: 0.6004 - val_accuracy: 0.7912\n",
      "Epoch 7/30\n",
      "41/41 [==============================] - 26s 641ms/step - loss: 0.4456 - accuracy: 0.8330 - val_loss: 0.5024 - val_accuracy: 0.8301\n",
      "Epoch 8/30\n",
      "41/41 [==============================] - 26s 641ms/step - loss: 0.4200 - accuracy: 0.8511 - val_loss: 0.4533 - val_accuracy: 0.8438\n",
      "Epoch 9/30\n",
      "41/41 [==============================] - 26s 636ms/step - loss: 0.3478 - accuracy: 0.8685 - val_loss: 0.4300 - val_accuracy: 0.8387\n",
      "Epoch 10/30\n",
      "41/41 [==============================] - 26s 636ms/step - loss: 0.3280 - accuracy: 0.8807 - val_loss: 0.5357 - val_accuracy: 0.8200\n",
      "Epoch 11/30\n",
      "41/41 [==============================] - 26s 629ms/step - loss: 0.2828 - accuracy: 0.8999 - val_loss: 0.4154 - val_accuracy: 0.8582\n",
      "Epoch 12/30\n",
      "41/41 [==============================] - 25s 627ms/step - loss: 0.2466 - accuracy: 0.9118 - val_loss: 0.5045 - val_accuracy: 0.8157\n",
      "Epoch 13/30\n",
      "41/41 [==============================] - 25s 613ms/step - loss: 0.2554 - accuracy: 0.9043 - val_loss: 0.5183 - val_accuracy: 0.8308\n",
      "Epoch 14/30\n",
      "41/41 [==============================] - 27s 636ms/step - loss: 0.1990 - accuracy: 0.9317 - val_loss: 0.4250 - val_accuracy: 0.8531\n",
      "Epoch 15/30\n",
      "41/41 [==============================] - 25s 617ms/step - loss: 0.1748 - accuracy: 0.9324 - val_loss: 0.5109 - val_accuracy: 0.8409\n",
      "Epoch 16/30\n",
      "41/41 [==============================] - 25s 616ms/step - loss: 0.1672 - accuracy: 0.9409 - val_loss: 0.5155 - val_accuracy: 0.8423\n",
      "Epoch 17/30\n",
      "41/41 [==============================] - 26s 634ms/step - loss: 0.1333 - accuracy: 0.9553 - val_loss: 0.5375 - val_accuracy: 0.8467\n",
      "Epoch 18/30\n",
      "41/41 [==============================] - 25s 624ms/step - loss: 0.1266 - accuracy: 0.9528 - val_loss: 0.6231 - val_accuracy: 0.8359\n",
      "Epoch 19/30\n",
      "41/41 [==============================] - 25s 632ms/step - loss: 0.1163 - accuracy: 0.9592 - val_loss: 0.4662 - val_accuracy: 0.8639\n",
      "Epoch 20/30\n",
      "41/41 [==============================] - 25s 600ms/step - loss: 0.0880 - accuracy: 0.9702 - val_loss: 0.5168 - val_accuracy: 0.8654\n",
      "Epoch 21/30\n",
      "41/41 [==============================] - 25s 604ms/step - loss: 0.0989 - accuracy: 0.9650 - val_loss: 0.5227 - val_accuracy: 0.8553\n",
      "Epoch 22/30\n",
      "41/41 [==============================] - 26s 620ms/step - loss: 0.0756 - accuracy: 0.9739 - val_loss: 0.5779 - val_accuracy: 0.8632\n",
      "Epoch 23/30\n",
      "41/41 [==============================] - 26s 612ms/step - loss: 0.0743 - accuracy: 0.9734 - val_loss: 0.5274 - val_accuracy: 0.8589\n",
      "Epoch 24/30\n",
      "41/41 [==============================] - 26s 632ms/step - loss: 0.0641 - accuracy: 0.9799 - val_loss: 0.5480 - val_accuracy: 0.8711\n",
      "Epoch 25/30\n",
      "41/41 [==============================] - 24s 601ms/step - loss: 0.0457 - accuracy: 0.9841 - val_loss: 0.6235 - val_accuracy: 0.8690\n",
      "Epoch 26/30\n",
      "41/41 [==============================] - 26s 625ms/step - loss: 0.0503 - accuracy: 0.9833 - val_loss: 0.6511 - val_accuracy: 0.8539\n",
      "Epoch 27/30\n",
      "41/41 [==============================] - 25s 614ms/step - loss: 0.0470 - accuracy: 0.9836 - val_loss: 0.6415 - val_accuracy: 0.8632\n",
      "Epoch 28/30\n",
      "41/41 [==============================] - 25s 609ms/step - loss: 0.0672 - accuracy: 0.9759 - val_loss: 0.6590 - val_accuracy: 0.8639\n"
     ]
    },
    {
     "data": {
      "text/plain": [
       "<keras.callbacks.History at 0x2438f8922c0>"
      ]
     },
     "execution_count": 102,
     "metadata": {},
     "output_type": "execute_result"
    }
   ],
   "source": [
    "model.fit(training_set, epochs=30, validation_data=test_set,callbacks=[early_stopping])"
   ]
  },
  {
   "cell_type": "code",
   "execution_count": 103,
   "metadata": {},
   "outputs": [],
   "source": [
    "from tensorflow.keras.preprocessing import image"
   ]
  },
  {
   "cell_type": "code",
   "execution_count": null,
   "metadata": {},
   "outputs": [],
   "source": []
  },
  {
   "cell_type": "code",
   "execution_count": null,
   "metadata": {},
   "outputs": [],
   "source": []
  },
  {
   "cell_type": "code",
   "execution_count": null,
   "metadata": {},
   "outputs": [],
   "source": []
  },
  {
   "cell_type": "code",
   "execution_count": null,
   "metadata": {},
   "outputs": [],
   "source": []
  },
  {
   "cell_type": "code",
   "execution_count": null,
   "metadata": {},
   "outputs": [],
   "source": []
  },
  {
   "cell_type": "code",
   "execution_count": 104,
   "metadata": {},
   "outputs": [
    {
     "name": "stdout",
     "output_type": "stream",
     "text": [
      "(64, 64, 3)\n",
      "(1, 64, 64, 3)\n",
      "1/1 [==============================] - 0s 69ms/step\n"
     ]
    },
    {
     "data": {
      "text/plain": [
       "array([[0., 0., 0., 0., 0., 1.]], dtype=float32)"
      ]
     },
     "execution_count": 104,
     "metadata": {},
     "output_type": "execute_result"
    },
    {
     "data": {
      "image/png": "[encoded data removed]",
      "text/plain": [
       "<Figure size 640x480 with 1 Axes>"
      ]
     },
     "metadata": {},
     "output_type": "display_data"
    }
   ],
   "source": [
    "img = image.load_img(r\"E:\\ml\\Test set\\Heavy\\images (55).jpg\"\n",
    "                    ,target_size = (64,64))\n",
    "plt.imshow(img);\n",
    "test_img = np.asarray(img)\n",
    "print(test_img.shape)\n",
    "# reshape to add 1 row\n",
    "test_img = test_img.reshape(1,64,64,3)\n",
    "print(test_img.shape)\n",
    "model.predict(test_img)"
   ]
  },
  {
   "cell_type": "code",
   "execution_count": 112,
   "metadata": {},
   "outputs": [
    {
     "data": {
      "text/plain": [
       "{'bike': 0, 'bus': 1, 'cycle': 2, 'sedan': 3, 'suv': 4, 'truck': 5}"
      ]
     },
     "execution_count": 112,
     "metadata": {},
     "output_type": "execute_result"
    }
   ],
   "source": [
    "training_set.class_indices"
   ]
  },
  {
   "cell_type": "code",
   "execution_count": 111,
   "metadata": {},
   "outputs": [
    {
     "name": "stdout",
     "output_type": "stream",
     "text": [
      "(64, 64, 3)\n",
      "(1, 64, 64, 3)\n",
      "1/1 [==============================] - 0s 21ms/step\n"
     ]
    },
    {
     "data": {
      "text/plain": [
       "array([[0., 0., 1., 0., 0., 0.]], dtype=float32)"
      ]
     },
     "execution_count": 111,
     "metadata": {},
     "output_type": "execute_result"
    },
    {
     "data": {
      "image/png": "[encoded data removed]",
      "text/plain": [
       "<Figure size 640x480 with 1 Axes>"
      ]
     },
     "metadata": {},
     "output_type": "display_data"
    }
   ],
   "source": [
    "img = image.load_img(r\"E:\\ml\\5483_35_2.png\"\n",
    "                    ,target_size = (64,64))\n",
    "plt.imshow(img);\n",
    "test_img = np.asarray(img)\n",
    "print(test_img.shape)\n",
    "# reshape to add 1 row\n",
    "test_img = test_img.reshape(1,64,64,3)\n",
    "print(test_img.shape)\n",
    "model.predict(test_img)"
   ]
  },
  {
   "cell_type": "code",
   "execution_count": null,
   "metadata": {},
   "outputs": [],
   "source": []
  }
 ],
 "metadata": {
  "kernelspec": {
   "display_name": "Python 3 (ipykernel)",
   "language": "python",
   "name": "python3"
  },
  "language_info": {
   "codemirror_mode": {
    "name": "ipython",
    "version": 3
   },
   "file_extension": ".py",
   "mimetype": "text/x-python",
   "name": "python",
   "nbconvert_exporter": "python",
   "pygments_lexer": "ipython3",
   "version": "3.10.9"
  }
 },
 "nbformat": 4,
 "nbformat_minor": 2
}
